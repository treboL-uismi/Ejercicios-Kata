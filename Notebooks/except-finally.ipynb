{
 "cells": [
  {
   "cell_type": "markdown",
   "metadata": {},
   "source": [
    "try /except /finally\n",
    "\"Unified try Example\" del capítulo 34 Exception Coding Details (pag. 1105) del libro Learning Python.\n",
    "\n",
    "try statement syntax\n",
    "La sentencia try statement must have either an except or a finally, and the order of its parts must be like this:\n",
    "\n",
    "Formato 1:"
   ]
  },
  {
   "cell_type": "code",
   "execution_count": null,
   "metadata": {},
   "outputs": [],
   "source": [
    "try:\n",
    "    statements\n",
    "except [type [as value]]:\n",
    "    statements\n",
    "[except [type [as value]]:\n",
    "    statements]* \n",
    "[else:\n",
    "    statements] \n",
    "[finally:\n",
    "    statements]"
   ]
  },
  {
   "cell_type": "markdown",
   "metadata": {},
   "source": [
    "Formato 2:"
   ]
  },
  {
   "cell_type": "code",
   "execution_count": null,
   "metadata": {},
   "outputs": [],
   "source": [
    "try:\n",
    "    statements\n",
    "finally:\n",
    "    statements"
   ]
  },
  {
   "cell_type": "markdown",
   "metadata": {},
   "source": [
    "Prosigamos."
   ]
  },
  {
   "cell_type": "markdown",
   "metadata": {},
   "source": [
    "Ejemplo con error"
   ]
  },
  {
   "cell_type": "code",
   "execution_count": 5,
   "metadata": {},
   "outputs": [
    {
     "name": "stdout",
     "output_type": "stream",
     "text": [
      "x = 'spam'[99]\n",
      "---------------------------------------------\n",
      "EXCEPTION RAISED AND CAUGHT\n",
      "eta vaina ta mal!!!!!\n",
      "ok\n",
      "fin.\n"
     ]
    }
   ],
   "source": [
    "print(\"x = 'spam'[99]\")\n",
    "sep = '-' * 45 + '\\n'\n",
    "print(sep + 'EXCEPTION RAISED AND CAUGHT') # nada importante\n",
    "\n",
    "try:\n",
    "    x = 'spam'[99]\n",
    "except IndexError:\n",
    "    print('eta vaina ta mal!!!!!')\n",
    "finally:\n",
    "    print('ok')\n",
    "\n",
    "print('fin.')\n"
   ]
  },
  {
   "cell_type": "markdown",
   "metadata": {},
   "source": [
    "Ejemplo sin error"
   ]
  },
  {
   "cell_type": "code",
   "execution_count": 4,
   "metadata": {},
   "outputs": [
    {
     "name": "stdout",
     "output_type": "stream",
     "text": [
      "x = 'spam'[3]\n",
      "---------------------------------------------\n",
      "NO EXCEPTION RAISED\n",
      "chill\n",
      "fin.\n"
     ]
    }
   ],
   "source": [
    "print(\"x = 'spam'[3]\")\n",
    "print(sep + 'NO EXCEPTION RAISED')\n",
    "try:\n",
    "    x = 'spam'[3]\n",
    "except IndexError:\n",
    "    print('hay tremendo fallo!=?!=!!!!') \n",
    "finally:\n",
    "    print('chill')\n",
    "print('fin.')"
   ]
  },
  {
   "cell_type": "markdown",
   "metadata": {},
   "source": [
    "Ejemplo sin error pero uso de else."
   ]
  },
  {
   "cell_type": "code",
   "execution_count": 6,
   "metadata": {},
   "outputs": [
    {
     "name": "stdout",
     "output_type": "stream",
     "text": [
      "x = 'spam'[3]\n",
      "---------------------------------------------\n",
      "NO EXCEPTION RAISED, WITH ELSE\n",
      "else run\n",
      "finally run\n",
      "after run\n"
     ]
    }
   ],
   "source": [
    "print(\"x = 'spam'[3]\")\n",
    "print(sep + 'NO EXCEPTION RAISED, WITH ELSE')\n",
    "try:\n",
    "    x = 'spam'[3]\n",
    "except IndexError:\n",
    "    print('except run')\n",
    "else:\n",
    "    print('else run')\n",
    "finally:\n",
    "    print('finally run')\n",
    "print('after run')"
   ]
  },
  {
   "cell_type": "markdown",
   "metadata": {},
   "source": [
    "Ejemplo con error pero hay una exception que captura un error distinto al ZeroDivisionError que es el único válico"
   ]
  },
  {
   "cell_type": "code",
   "execution_count": 9,
   "metadata": {},
   "outputs": [
    {
     "name": "stdout",
     "output_type": "stream",
     "text": [
      "x = 1 / 0\n",
      "---------------------------------------------\n",
      "EXCEPTION RAISED BUT NOT CAUGHT\n",
      "finally run\n"
     ]
    },
    {
     "ename": "ZeroDivisionError",
     "evalue": "division by zero",
     "output_type": "error",
     "traceback": [
      "\u001b[1;31m---------------------------------------------------------------------------\u001b[0m",
      "\u001b[1;31mZeroDivisionError\u001b[0m                         Traceback (most recent call last)",
      "Cell \u001b[1;32mIn[9], line 4\u001b[0m\n\u001b[0;32m      2\u001b[0m \u001b[38;5;28mprint\u001b[39m(sep \u001b[38;5;241m+\u001b[39m \u001b[38;5;124m'\u001b[39m\u001b[38;5;124mEXCEPTION RAISED BUT NOT CAUGHT\u001b[39m\u001b[38;5;124m'\u001b[39m)\n\u001b[0;32m      3\u001b[0m \u001b[38;5;28;01mtry\u001b[39;00m:\n\u001b[1;32m----> 4\u001b[0m     x\u001b[38;5;241m=\u001b[39m\u001b[38;5;241;43m1\u001b[39;49m\u001b[43m \u001b[49m\u001b[38;5;241;43m/\u001b[39;49m\u001b[38;5;241;43m0\u001b[39;49m\n\u001b[0;32m      5\u001b[0m \u001b[38;5;28;01mexcept\u001b[39;00m \u001b[38;5;167;01mIndexError\u001b[39;00m:\n\u001b[0;32m      6\u001b[0m     \u001b[38;5;28mprint\u001b[39m(\u001b[38;5;124m'\u001b[39m\u001b[38;5;124mexcept run\u001b[39m\u001b[38;5;124m'\u001b[39m)\n",
      "\u001b[1;31mZeroDivisionError\u001b[0m: division by zero"
     ]
    }
   ],
   "source": [
    "print(\"x = 1 / 0\")\n",
    "print(sep + 'EXCEPTION RAISED BUT NOT CAUGHT')\n",
    "try:\n",
    "    x=1 /0\n",
    "except IndexError:\n",
    "    print('except run')\n",
    "finally:\n",
    "    print('finally run')\n",
    "print('after run')"
   ]
  },
  {
   "cell_type": "markdown",
   "metadata": {},
   "source": [
    "Por lo tanto tendría que quedar así."
   ]
  },
  {
   "cell_type": "code",
   "execution_count": 10,
   "metadata": {},
   "outputs": [
    {
     "name": "stdout",
     "output_type": "stream",
     "text": [
      "x = 1 / 0\n",
      "---------------------------------------------\n",
      "EXCEPTION RAISED BUT NOT CAUGHT\n",
      "except run\n",
      "finally run\n",
      "after run\n"
     ]
    }
   ],
   "source": [
    "print(\"x = 1 / 0\")\n",
    "print(sep + 'EXCEPTION RAISED BUT NOT CAUGHT')\n",
    "try:\n",
    "    x=1 /0\n",
    "except ZeroDivisionError:\n",
    "    print('except run')\n",
    "finally:\n",
    "    print('finally run')\n",
    "print('after run')"
   ]
  }
 ],
 "metadata": {
  "kernelspec": {
   "display_name": "Python 3",
   "language": "python",
   "name": "python3"
  },
  "language_info": {
   "codemirror_mode": {
    "name": "ipython",
    "version": 3
   },
   "file_extension": ".py",
   "mimetype": "text/x-python",
   "name": "python",
   "nbconvert_exporter": "python",
   "pygments_lexer": "ipython3",
   "version": "3.13.0"
  }
 },
 "nbformat": 4,
 "nbformat_minor": 2
}
